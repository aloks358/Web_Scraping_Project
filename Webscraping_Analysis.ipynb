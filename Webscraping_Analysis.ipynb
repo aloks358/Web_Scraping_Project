{
 "cells": [
  {
   "cell_type": "code",
   "execution_count": 1,
   "metadata": {},
   "outputs": [],
   "source": [
    "import pandas as pd\n",
    "\n",
    "df = pd.read_csv(\"C:\\\\MAIN\\\\NYCDSA\\\\Web_Scraping_Project\\\\Reuters\\\\reuters_news.csv\")"
   ]
  },
  {
   "cell_type": "code",
   "execution_count": 7,
   "metadata": {},
   "outputs": [
    {
     "data": {
      "text/html": [
       "<div>\n",
       "<style scoped>\n",
       "    .dataframe tbody tr th:only-of-type {\n",
       "        vertical-align: middle;\n",
       "    }\n",
       "\n",
       "    .dataframe tbody tr th {\n",
       "        vertical-align: top;\n",
       "    }\n",
       "\n",
       "    .dataframe thead th {\n",
       "        text-align: right;\n",
       "    }\n",
       "</style>\n",
       "<table border=\"1\" class=\"dataframe\">\n",
       "  <thead>\n",
       "    <tr style=\"text-align: right;\">\n",
       "      <th></th>\n",
       "      <th>body</th>\n",
       "      <th>classification</th>\n",
       "      <th>timestamp</th>\n",
       "      <th>title</th>\n",
       "    </tr>\n",
       "  </thead>\n",
       "  <tbody>\n",
       "    <tr>\n",
       "      <td>0</td>\n",
       "      <td>DETROIT (Reuters) - A U.S. regulator said it w...</td>\n",
       "      <td>Business News</td>\n",
       "      <td>2020-01-23 16:38:00</td>\n",
       "      <td>U.S. regulator to review recommendation on Fia...</td>\n",
       "    </tr>\n",
       "    <tr>\n",
       "      <td>1</td>\n",
       "      <td>(Reuters) - Procter &amp; Gamble Co (,) on Thursda...</td>\n",
       "      <td>Business News</td>\n",
       "      <td>2020-01-23 12:22:00</td>\n",
       "      <td>P&amp;G sales growth shy of forecasts as slowing b...</td>\n",
       "    </tr>\n",
       "    <tr>\n",
       "      <td>2</td>\n",
       "      <td>(Reuters) - Tesla Inc (,) has overtaken German...</td>\n",
       "      <td>Technology News</td>\n",
       "      <td>2020-01-23 14:23:00</td>\n",
       "      <td>Tesla overtakes Volkswagen as world's second m...</td>\n",
       "    </tr>\n",
       "    <tr>\n",
       "      <td>3</td>\n",
       "      <td>BERLIN (Reuters) - Seven U.S. bombs from World...</td>\n",
       "      <td>Technology News</td>\n",
       "      <td>2020-01-23 16:20:00</td>\n",
       "      <td>Tesla's German factory gets off to an explosiv...</td>\n",
       "    </tr>\n",
       "    <tr>\n",
       "      <td>4</td>\n",
       "      <td>(Reuters) - Xerox Holdings Corp (,) said on Th...</td>\n",
       "      <td>Business News</td>\n",
       "      <td>2020-01-23 14:35:00</td>\n",
       "      <td>Xerox nominates new HP board after buyout rebuffs</td>\n",
       "    </tr>\n",
       "  </tbody>\n",
       "</table>\n",
       "</div>"
      ],
      "text/plain": [
       "                                                body   classification  \\\n",
       "0  DETROIT (Reuters) - A U.S. regulator said it w...    Business News   \n",
       "1  (Reuters) - Procter & Gamble Co (,) on Thursda...    Business News   \n",
       "2  (Reuters) - Tesla Inc (,) has overtaken German...  Technology News   \n",
       "3  BERLIN (Reuters) - Seven U.S. bombs from World...  Technology News   \n",
       "4  (Reuters) - Xerox Holdings Corp (,) said on Th...    Business News   \n",
       "\n",
       "             timestamp                                              title  \n",
       "0  2020-01-23 16:38:00  U.S. regulator to review recommendation on Fia...  \n",
       "1  2020-01-23 12:22:00  P&G sales growth shy of forecasts as slowing b...  \n",
       "2  2020-01-23 14:23:00  Tesla overtakes Volkswagen as world's second m...  \n",
       "3  2020-01-23 16:20:00  Tesla's German factory gets off to an explosiv...  \n",
       "4  2020-01-23 14:35:00  Xerox nominates new HP board after buyout rebuffs  "
      ]
     },
     "execution_count": 7,
     "metadata": {},
     "output_type": "execute_result"
    }
   ],
   "source": [
    "df.head()"
   ]
  },
  {
   "cell_type": "code",
   "execution_count": 9,
   "metadata": {},
   "outputs": [
    {
     "data": {
      "text/plain": [
       "(97, 4)"
      ]
     },
     "execution_count": 9,
     "metadata": {},
     "output_type": "execute_result"
    }
   ],
   "source": [
    "df.shape"
   ]
  },
  {
   "cell_type": "code",
   "execution_count": null,
   "metadata": {},
   "outputs": [],
   "source": []
  }
 ],
 "metadata": {
  "kernelspec": {
   "display_name": "Python 3",
   "language": "python",
   "name": "python3"
  },
  "language_info": {
   "codemirror_mode": {
    "name": "ipython",
    "version": 3
   },
   "file_extension": ".py",
   "mimetype": "text/x-python",
   "name": "python",
   "nbconvert_exporter": "python",
   "pygments_lexer": "ipython3",
   "version": "3.7.4"
  }
 },
 "nbformat": 4,
 "nbformat_minor": 2
}
